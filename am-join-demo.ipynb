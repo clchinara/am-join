{
 "cells": [
  {
   "cell_type": "markdown",
   "id": "5a8029cd",
   "metadata": {},
   "source": [
    "# Set up Conda environment"
   ]
  },
  {
   "cell_type": "markdown",
   "id": "83a5e10d",
   "metadata": {},
   "source": [
    "`conda create --name myenv python=3.10 jupyter openjdk=11 pyspark matplotlib`"
   ]
  },
  {
   "cell_type": "markdown",
   "id": "6989dc75",
   "metadata": {},
   "source": [
    "`conda activate myenv`"
   ]
  },
  {
   "cell_type": "markdown",
   "id": "da05f21c",
   "metadata": {},
   "source": [
    "# Open Jupyter notebook"
   ]
  },
  {
   "cell_type": "markdown",
   "id": "c4181d4b",
   "metadata": {},
   "source": [
    "`jupyter notebook`"
   ]
  },
  {
   "cell_type": "code",
   "execution_count": 1,
   "id": "51a3e011",
   "metadata": {},
   "outputs": [],
   "source": [
    "import pyspark\n",
    "import random\n",
    "import time\n",
    "import os\n",
    "import sys\n",
    "import math\n",
    "import numpy as np\n",
    "import matplotlib.pyplot as plt\n",
    "from collections import defaultdict\n",
    "from pyspark.sql import SparkSession\n",
    "from pyspark.sql.types import StructType, StructField, StringType, IntegerType"
   ]
  },
  {
   "cell_type": "code",
   "execution_count": 2,
   "id": "7a213385",
   "metadata": {
    "scrolled": true
   },
   "outputs": [
    {
     "data": {
      "text/plain": [
       "'3.2.1'"
      ]
     },
     "execution_count": 2,
     "metadata": {},
     "output_type": "execute_result"
    }
   ],
   "source": [
    "pyspark.__version__"
   ]
  },
  {
   "cell_type": "markdown",
   "id": "00994536",
   "metadata": {},
   "source": [
    "# Check and set Python version"
   ]
  },
  {
   "cell_type": "markdown",
   "id": "1029b007",
   "metadata": {},
   "source": [
    "Python version used in the worker and the driver must be the same. This implementation can run on Python 3.10. "
   ]
  },
  {
   "cell_type": "code",
   "execution_count": 4,
   "id": "403b67aa",
   "metadata": {},
   "outputs": [],
   "source": [
    "os.environ['PYSPARK_PYTHON'] = sys.executable\n",
    "os.environ['PYSPARK_DRIVER_PYTHON'] = sys.executable"
   ]
  },
  {
   "cell_type": "markdown",
   "id": "1eaafa97",
   "metadata": {},
   "source": [
    "# Set Spark config variables"
   ]
  },
  {
   "cell_type": "code",
   "execution_count": 5,
   "id": "d934fb24",
   "metadata": {},
   "outputs": [],
   "source": [
    "conf = pyspark.conf.SparkConf().setAll([\n",
    "    ('spark.executorEnv.PYSPARK_PYTHON', sys.executable), \n",
    "    ('spark.executorEnv.PYSPARK_DRIVER_PYTHON', sys.executable),\n",
    "    ('spark.workerEnv.PYSPARK_PYTHON', sys.executable),\n",
    "    ('spark.workerEnv.PYSPARK_DRIVER_PYTHON', sys.executable),\n",
    "    ('spark.dynamicAllocation.enabled', 'true'),\n",
    "    ('maximizeResourceAllocation', 'true'),\n",
    "    ('spark.dynamicAllocation.minExecutors', 1),\n",
    "    ('spark.dynamicAllocation.maxExecutors', 5),\n",
    "    ('spark.driver.memory', '10g'),\n",
    "#     ('spark.executor.instances', 4), # this is not honored in local mode\n",
    "#     ('spark.executor.cores', 8),\n",
    "])"
   ]
  },
  {
   "cell_type": "markdown",
   "id": "11dc775d",
   "metadata": {},
   "source": [
    "# Create Spark session"
   ]
  },
  {
   "cell_type": "code",
   "execution_count": 8,
   "id": "b31bcf5d",
   "metadata": {
    "scrolled": true
   },
   "outputs": [
    {
     "data": {
      "text/html": [
       "\n",
       "            <div>\n",
       "                <p><b>SparkSession - in-memory</b></p>\n",
       "                \n",
       "        <div>\n",
       "            <p><b>SparkContext</b></p>\n",
       "\n",
       "            <p><a href=\"http://172.16.63.187:4040\">Spark UI</a></p>\n",
       "\n",
       "            <dl>\n",
       "              <dt>Version</dt>\n",
       "                <dd><code>v3.2.1</code></dd>\n",
       "              <dt>Master</dt>\n",
       "                <dd><code>local[*]</code></dd>\n",
       "              <dt>AppName</dt>\n",
       "                <dd><code>AM-Join-demo</code></dd>\n",
       "            </dl>\n",
       "        </div>\n",
       "        \n",
       "            </div>\n",
       "        "
      ],
      "text/plain": [
       "<pyspark.sql.session.SparkSession at 0x11757cd90>"
      ]
     },
     "execution_count": 8,
     "metadata": {},
     "output_type": "execute_result"
    }
   ],
   "source": [
    "spark = SparkSession.builder.appName(\"AM-Join-demo\").config(conf=conf).getOrCreate()\n",
    "spark"
   ]
  },
  {
   "cell_type": "markdown",
   "id": "8fe38772",
   "metadata": {},
   "source": [
    "# Generate sample data for demo"
   ]
  },
  {
   "cell_type": "code",
   "execution_count": 9,
   "id": "281b240b",
   "metadata": {},
   "outputs": [],
   "source": [
    "def generate_data_csv(file_name, spec): # spec: (key, cnt)\n",
    "    with open(f'{file_name}.csv', 'w') as fhand:\n",
    "        fhand.write('key,rec\\n')\n",
    "        for tpl in spec:\n",
    "            # Assign (distinct) random lowercase letter(s) (from a-z) for each key\n",
    "            recs_ascii = random.sample(range(97, 123), tpl[1])\n",
    "            for i in range(tpl[1]):\n",
    "                fhand.write(f'{tpl[0]},{chr(recs_ascii[i])}\\n')\n",
    "    fhand.close()"
   ]
  },
  {
   "cell_type": "markdown",
   "id": "a469422e",
   "metadata": {},
   "source": [
    "Sample data for AM-Join"
   ]
  },
  {
   "cell_type": "code",
   "execution_count": 10,
   "id": "ec0bb9af",
   "metadata": {},
   "outputs": [],
   "source": [
    "# am_R_spec = [(1, 2), (2, 2), (3, 2), (4, 2), (5, 1), (6, 1), (7, 1), (8, 1), (9, 1), (10, 1)] # (key, cnt)\n",
    "# am_S_spec = [(1, 2), (11, 2), (6, 2), (12, 2), (5, 1), (4, 1), (7, 1), (8, 1), (9, 1), (13, 1)]\n",
    "# generate_data_csv('./data/am_R', am_R_spec)\n",
    "# generate_data_csv('./data/am_S', am_S_spec)"
   ]
  },
  {
   "cell_type": "markdown",
   "id": "4f9ad5eb",
   "metadata": {},
   "source": [
    "Sample data for Tree-Join"
   ]
  },
  {
   "cell_type": "code",
   "execution_count": 11,
   "id": "9b5979a5",
   "metadata": {},
   "outputs": [],
   "source": [
    "# tree_R_spec = [(2, 4), (4, 1), (1, 5), (3, 2), (6, 1)]\n",
    "# tree_S_spec = [(2, 3), (1, 4), (3, 2), (4, 1), (5, 1)]\n",
    "# generate_data_csv('./data/tree_R', tree_R_spec)\n",
    "# generate_data_csv('./data/tree_S', tree_S_spec)"
   ]
  },
  {
   "cell_type": "markdown",
   "id": "07011a45",
   "metadata": {},
   "source": [
    "# Read data from CSV file"
   ]
  },
  {
   "cell_type": "code",
   "execution_count": 12,
   "id": "6852611d",
   "metadata": {},
   "outputs": [
    {
     "name": "stdout",
     "output_type": "stream",
     "text": [
      "root\n",
      " |-- key: integer (nullable = true)\n",
      " |-- rec: string (nullable = true)\n",
      "\n",
      "+---+---+\n",
      "|key|rec|\n",
      "+---+---+\n",
      "|  2|  l|\n",
      "|  2|  s|\n",
      "|  2|  d|\n",
      "|  2|  m|\n",
      "|  4|  y|\n",
      "|  1|  v|\n",
      "|  1|  c|\n",
      "|  1|  u|\n",
      "|  1|  e|\n",
      "|  1|  r|\n",
      "|  3|  a|\n",
      "|  3|  z|\n",
      "|  6|  b|\n",
      "+---+---+\n",
      "\n",
      "root\n",
      " |-- key: integer (nullable = true)\n",
      " |-- rec: string (nullable = true)\n",
      "\n",
      "+---+---+\n",
      "|key|rec|\n",
      "+---+---+\n",
      "|  2|  l|\n",
      "|  2|  x|\n",
      "|  2|  m|\n",
      "|  1|  j|\n",
      "|  1|  n|\n",
      "|  1|  f|\n",
      "|  1|  g|\n",
      "|  3|  p|\n",
      "|  3|  g|\n",
      "|  4|  c|\n",
      "|  5|  g|\n",
      "+---+---+\n",
      "\n"
     ]
    },
    {
     "data": {
      "text/plain": [
       "(None, None)"
      ]
     },
     "execution_count": 12,
     "metadata": {},
     "output_type": "execute_result"
    }
   ],
   "source": [
    "# Read Tree-Join sample data\n",
    "df_R_tj = spark.read.option('header','true').csv('./data/tree_R.csv', inferSchema=True)\n",
    "df_S_tj = spark.read.option('header','true').csv('./data/tree_S.csv', inferSchema=True)\n",
    "\n",
    "# Check schema and show records\n",
    "df_R_tj.printSchema(), df_R_tj.show()\n",
    "df_S_tj.printSchema(), df_S_tj.show()"
   ]
  },
  {
   "cell_type": "markdown",
   "id": "6f7ab06a",
   "metadata": {},
   "source": [
    "About RDD: RDD operations are executed in parallel on each partition. "
   ]
  },
  {
   "cell_type": "code",
   "execution_count": 13,
   "id": "2a01fd51",
   "metadata": {},
   "outputs": [],
   "source": [
    "\"\"\"\n",
    "Util funtions for combineByKey\n",
    "\"\"\"\n",
    "def to_list(a):\n",
    "    return [a]\n",
    "def append(a, b):\n",
    "    a.append(b)\n",
    "    return a\n",
    "def extend(a, b):\n",
    "    a.extend(b)\n",
    "    return a"
   ]
  },
  {
   "cell_type": "code",
   "execution_count": 14,
   "id": "44dd25d5",
   "metadata": {},
   "outputs": [],
   "source": [
    "\"\"\"\n",
    "Constants\n",
    "\"\"\"\n",
    "lmbd = 0.5 # the ratio of network to disk costs, assume 0.5 as value\n",
    "num_cores = 8 # number of cores in Spark executor"
   ]
  },
  {
   "cell_type": "code",
   "execution_count": 15,
   "id": "a6b2d936",
   "metadata": {},
   "outputs": [],
   "source": [
    "\"\"\"\n",
    "Test function\n",
    "\"\"\"\n",
    "def test_correctness(actual, expected, skip_record_check=False):\n",
    "    \"\"\"\n",
    "    NOTE: There is a difference in data structure between expected and res, \n",
    "    expected: [(key, (val1, val2)), ...]\n",
    "    res: [(key, val1, val2), ...]\n",
    "    so we take that into account when testing. \n",
    "    \"\"\"\n",
    "    assert(len(actual) == len(expected))\n",
    "    if not skip_record_check: # if not necessary\n",
    "        for rec in expected:\n",
    "            assert((rec[0], rec[1][0], rec[1][1]) in actual)\n",
    "    # No errors means OK. "
   ]
  },
  {
   "cell_type": "markdown",
   "id": "5e16c2f6",
   "metadata": {},
   "source": [
    "# Tree-Join implementation"
   ]
  },
  {
   "cell_type": "markdown",
   "id": "4dfc2dfb",
   "metadata": {},
   "source": [
    "Implementation of Algorithm 1-6 from the paper. "
   ]
  },
  {
   "cell_type": "code",
   "execution_count": 112,
   "id": "71f792a7",
   "metadata": {},
   "outputs": [],
   "source": [
    "def mapBuildJoinedIndex(x, i):\n",
    "    \"\"\"\n",
    "    A map function to mark record from one relation.\n",
    "    In this implementation, 0 means the record belongs to R and 1 to S. \n",
    "    \n",
    "    ri -> (key, (0, ri))\n",
    "    sj -> (key, (1, sj))\n",
    "    \n",
    "    Input: A tuple x with the format (key, val)\n",
    "    Output: A tuple with the format(key, (0/1, val))\n",
    "    \"\"\"\n",
    "    return (x[0], (i, x[1]))"
   ]
  },
  {
   "cell_type": "code",
   "execution_count": 113,
   "id": "318983db",
   "metadata": {},
   "outputs": [],
   "source": [
    "def reduceBuildJoinedIndex(x):\n",
    "    \"\"\"\n",
    "    A map function to essentially change the format of the record. \n",
    "    \n",
    "    (key, ((0, ri) OR (1, sj))*) -> (key, ri*, sj*)\n",
    "    \n",
    "    Input: A tuple x with the format (key, [[0/1, val], ...]), \n",
    "    where a value of either 0 or 1 is used to mark the relation to which the record belongs to. \n",
    "    In this implementation, 0 means the record belongs to R and 1 to S. \n",
    "    Output: A tuple with the format (key, [val1, ...], [val2, ...]), where tuple[1] is the record marked with 0 and tuple[2] with 1. \n",
    "    \"\"\"\n",
    "    LR = []\n",
    "    LS = []\n",
    "    for tpl in x[1]:\n",
    "        if tpl[0] == 0:\n",
    "            LR.append(tpl[1])\n",
    "        else:\n",
    "            LS.append(tpl[1])\n",
    "    return (x[0], LR, LS)"
   ]
  },
  {
   "cell_type": "markdown",
   "id": "c080f0f7",
   "metadata": {},
   "source": [
    "Algorithm 2"
   ]
  },
  {
   "cell_type": "code",
   "execution_count": 114,
   "id": "15d3cdb1",
   "metadata": {},
   "outputs": [],
   "source": [
    "def buildJoinedIndex(R, S): # R, S (in RDD) -> joined_index (in RDD)\n",
    "    \"\"\"\n",
    "    A function to build the joined index. \n",
    "    \n",
    "    Input: Two relations to be joined, R and S (in RDD). \n",
    "    Output: A joined index mapping each join key to the pair of lists of records. \n",
    "    Each element has the format (key, LR, LS), where Li is the list of records from relation i. \n",
    "    \"\"\"\n",
    "    keyedR = R.map(lambda x: mapBuildJoinedIndex(x, 0)) # ri -> (key, (0, ri))\n",
    "#     print('keyedR: ', keyedR.collect())\n",
    "    keyedS = S.map(lambda x: mapBuildJoinedIndex(x, 1)) # sj -> (key, (1, sj))\n",
    "#     print('keyedS: ', keyedS.collect())\n",
    "#     joined_index = keyedR.union(keyedS).groupByKey().mapValues(list).map(reduceBuildJoinedIndex) # inefficient\n",
    "    joined_index = keyedR.union(keyedS).combineByKey(to_list, append, extend).map(reduceBuildJoinedIndex)\n",
    "#     print('joined_index', joined_index.collect())\n",
    "    return joined_index"
   ]
  },
  {
   "cell_type": "markdown",
   "id": "16ade46b",
   "metadata": {},
   "source": [
    "Algorithm 6"
   ]
  },
  {
   "cell_type": "code",
   "execution_count": 115,
   "id": "6c35b9aa",
   "metadata": {},
   "outputs": [],
   "source": [
    "def isHotKey(l1, l2): \n",
    "    \"\"\"\n",
    "    A function to check whether a key is a hot key. \n",
    "    \n",
    "    Input: The length of records li of the checked key in relation i. \n",
    "    Output: A boolean on whether the key is a hot key, i.e. whether the list of records of this key should be further chunked. \n",
    "    \"\"\"\n",
    "    l = math.sqrt(l1 * l2)\n",
    "    return l > (math.sqrt(1 + math.sqrt(2 + lmbd)) ** 3)"
   ]
  },
  {
   "cell_type": "markdown",
   "id": "86ed19a9",
   "metadata": {},
   "source": [
    "Algorithm 4"
   ]
  },
  {
   "cell_type": "code",
   "execution_count": 116,
   "id": "ab6dbc35",
   "metadata": {},
   "outputs": [],
   "source": [
    "def mapGetAllValuePairs(x):\n",
    "    \"\"\"\n",
    "    A map function to essentially get the join results between two relations on a key, with list of records L1 and L2 respectively.\n",
    "    \n",
    "    Input: A tuple x with the format (key, [val1, ...], [val2, ...]) where tuple[1] and tuple[2] are the two lists of records from the two relations. \n",
    "    Output: A list of the join results. Each element has the format (key, val1, val2) where val1 is the value of the record from one relation, and val2 from the other.\n",
    "    \n",
    "    Note: val can be a list depending on the usage. \n",
    "    \"\"\"\n",
    "    u = []\n",
    "    key, L1, L2 = x[0], x[1], x[2]\n",
    "    for val1 in L1:\n",
    "        for val2 in L2:\n",
    "            u.append((key, val1, val2))\n",
    "    return u"
   ]
  },
  {
   "cell_type": "markdown",
   "id": "c778a1c1",
   "metadata": {},
   "source": [
    "Algorithm 5"
   ]
  },
  {
   "cell_type": "code",
   "execution_count": 117,
   "id": "85a116a5",
   "metadata": {},
   "outputs": [],
   "source": [
    "def chunkList(L): # L is a list of values of a certain key in a certain relation\n",
    "    \"\"\"\n",
    "    A function to divide the list of records into sublists. \n",
    "    \n",
    "    Input: A list L containing the values of the checked key in one relation. \n",
    "    Output: A list of sublists of records. \n",
    "    \"\"\"\n",
    "    l = len(L)\n",
    "    no_sublist = math.ceil(l ** (1/3))\n",
    "    len_sublist = math.floor(l / no_sublist)\n",
    "    res = []\n",
    "    for i in range(no_sublist):\n",
    "        start = i * no_sublist\n",
    "        sublist = []\n",
    "        j = start\n",
    "        while (j != start + len_sublist or i == no_sublist - 1) and j < l:\n",
    "            sublist.append(L[j])\n",
    "            j += 1\n",
    "        res.append(sublist)\n",
    "    return res"
   ]
  },
  {
   "cell_type": "code",
   "execution_count": 118,
   "id": "e6d40a96",
   "metadata": {},
   "outputs": [],
   "source": [
    "def mapChunkPairOfLists(x):\n",
    "    \"\"\"\n",
    "    A map function to assign sublists of records to a key. \n",
    "    \n",
    "    Input: A tuple x with the format (key, [val1, ...], [val2, ...]) where tuple[1] and tuple[2] are the two lists of records from the two relations.\n",
    "    Output: A tuple with the format (key, [[val1, ...], ...], [[val2, ...], ...]) where tuple[1] and tuple[2] are two lists containing sublists of records from the two relations as a result of chunking. \n",
    "    \"\"\"\n",
    "    key, L1, L2 = x[0], x[1], x[2]\n",
    "    return (key, chunkList(L1), chunkList(L2))"
   ]
  },
  {
   "cell_type": "markdown",
   "id": "de3ae482",
   "metadata": {},
   "source": [
    "Algorithm 3"
   ]
  },
  {
   "cell_type": "code",
   "execution_count": 119,
   "id": "00edf990",
   "metadata": {},
   "outputs": [],
   "source": [
    "def treeJoinIteration(joined_index):\n",
    "    \"\"\"\n",
    "    One iteration of Tree-Join, outputs partial join results and new joined index where applicable. \n",
    "    \n",
    "    Input: Joined index with the format [(key, LR, LS), ...], where Li is the list of records from relation i. \n",
    "    Output: \n",
    "    1) Partial join results on the applicable keys with the format [(key, val1, val2), ...]\n",
    "    2) New joined index with the format [(key, [val1, ...], [val2, ...])]\n",
    "    \"\"\"\n",
    "#     print('======== NEW TREE JOIN ITERATION ========')\n",
    "    joined_index_cached = joined_index.cache()\n",
    "    cold_index = joined_index_cached.filter(lambda x: not isHotKey(len(x[1]), len(x[2])))\n",
    "    hot_index = joined_index_cached.filter(lambda x: isHotKey(len(x[1]), len(x[2])))\n",
    "#     print('cold_index: ', cold_index.collect())\n",
    "#     print('hot_index: ', hot_index.collect())\n",
    "    partial_join = cold_index.map(mapGetAllValuePairs).filter(lambda x: len(x) > 0).flatMap(lambda x: x)\n",
    "#     print('partial_join: ', partial_join.collect())\n",
    "    chunks = hot_index.map(mapChunkPairOfLists)\n",
    "#     print('chunks: ', chunks.collect())\n",
    "    new_index = chunks.map(mapGetAllValuePairs).filter(lambda x: len(x) > 0).flatMap(lambda x: x)\n",
    "#     print('new_index: ', new_index.collect())\n",
    "    return (partial_join, new_index)"
   ]
  },
  {
   "cell_type": "markdown",
   "id": "de8edc42",
   "metadata": {},
   "source": [
    "Algorithm 1"
   ]
  },
  {
   "cell_type": "markdown",
   "id": "98d86bf3",
   "metadata": {},
   "source": [
    "First iteration would yield distinct keys in `joined_index`, but next iterations would yield some repeated keys as we deal with hot keys (whose records are further chunked). "
   ]
  },
  {
   "cell_type": "code",
   "execution_count": 120,
   "id": "ad3f6e3d",
   "metadata": {},
   "outputs": [],
   "source": [
    "def treeJoin(R, S):\n",
    "    \"\"\"\n",
    "    Main function of Tree-Join. \n",
    "    \n",
    "    Input: Two relations to be joined, R and S (in RDD). \n",
    "    Output: The join results with the format [(key, val1, val2), ...]\n",
    "    \"\"\"\n",
    "#     print('R partitions: ', R.getNumPartitions())\n",
    "#     print('S partitions: ', R.getNumPartitions())\n",
    "    joined_index = buildJoinedIndex(R, S)\n",
    "    Q = spark.sparkContext.emptyRDD()\n",
    "    while joined_index.count() > 0:\n",
    "        partial_join, new_index = treeJoinIteration(joined_index)\n",
    "        Q = Q.union(partial_join)\n",
    "        joined_index = new_index\n",
    "    return Q"
   ]
  },
  {
   "cell_type": "markdown",
   "id": "d97e9433",
   "metadata": {},
   "source": [
    "# Run Tree-Join"
   ]
  },
  {
   "cell_type": "code",
   "execution_count": 121,
   "id": "da08aa42",
   "metadata": {
    "scrolled": true
   },
   "outputs": [
    {
     "data": {
      "text/plain": [
       "([Row(key=2, rec='l'),\n",
       "  Row(key=2, rec='s'),\n",
       "  Row(key=2, rec='d'),\n",
       "  Row(key=2, rec='m'),\n",
       "  Row(key=4, rec='y'),\n",
       "  Row(key=1, rec='v'),\n",
       "  Row(key=1, rec='c'),\n",
       "  Row(key=1, rec='u'),\n",
       "  Row(key=1, rec='e'),\n",
       "  Row(key=1, rec='r'),\n",
       "  Row(key=3, rec='a'),\n",
       "  Row(key=3, rec='z'),\n",
       "  Row(key=6, rec='b')],\n",
       " [Row(key=2, rec='l'),\n",
       "  Row(key=2, rec='x'),\n",
       "  Row(key=2, rec='m'),\n",
       "  Row(key=1, rec='j'),\n",
       "  Row(key=1, rec='n'),\n",
       "  Row(key=1, rec='f'),\n",
       "  Row(key=1, rec='g'),\n",
       "  Row(key=3, rec='p'),\n",
       "  Row(key=3, rec='g'),\n",
       "  Row(key=4, rec='c'),\n",
       "  Row(key=5, rec='g')])"
      ]
     },
     "execution_count": 121,
     "metadata": {},
     "output_type": "execute_result"
    }
   ],
   "source": [
    "# Convert DataFrame to RDD\n",
    "rdd_R_tj = df_R_tj.rdd\n",
    "rdd_S_tj = df_S_tj.rdd\n",
    "rdd_R_tj.collect(), rdd_S_tj.collect()"
   ]
  },
  {
   "cell_type": "markdown",
   "id": "22a934c2",
   "metadata": {},
   "source": [
    "## Record elapsed time"
   ]
  },
  {
   "cell_type": "markdown",
   "id": "822d75d3",
   "metadata": {},
   "source": [
    "Note: Comment the print statements first. "
   ]
  },
  {
   "cell_type": "code",
   "execution_count": 122,
   "id": "d9eff131",
   "metadata": {},
   "outputs": [
    {
     "name": "stdout",
     "output_type": "stream",
     "text": [
      "0.4017791748046875\n"
     ]
    }
   ],
   "source": [
    "start = time.time()\n",
    "res_tj = treeJoin(rdd_R_tj, rdd_S_tj).collect()\n",
    "end = time.time()\n",
    "print(end - start)"
   ]
  },
  {
   "cell_type": "code",
   "execution_count": 78,
   "id": "2583add2",
   "metadata": {},
   "outputs": [
    {
     "name": "stdout",
     "output_type": "stream",
     "text": [
      "0.14609217643737793\n"
     ]
    }
   ],
   "source": [
    "start = time.time()\n",
    "expected_tj = rdd_R_tj.join(rdd_S_tj).collect()\n",
    "end = time.time()\n",
    "print(end - start)"
   ]
  },
  {
   "cell_type": "markdown",
   "id": "f4fae824",
   "metadata": {},
   "source": [
    "## Check for correctness of result"
   ]
  },
  {
   "cell_type": "code",
   "execution_count": 79,
   "id": "d0374e38",
   "metadata": {},
   "outputs": [],
   "source": [
    "test_correctness(res_tj, expected_tj)\n",
    "# No error means OK. "
   ]
  },
  {
   "cell_type": "markdown",
   "id": "6b37bf1d",
   "metadata": {},
   "source": [
    "## Show result"
   ]
  },
  {
   "cell_type": "code",
   "execution_count": 80,
   "id": "a03749e5",
   "metadata": {},
   "outputs": [],
   "source": [
    "# # Dataframe format\n",
    "# schema = StructType([\n",
    "#     StructField('key', IntegerType(), True),\n",
    "#     StructField('recR', StringType(), True),\n",
    "#     StructField('recS', StringType(), True),\n",
    "# ])\n",
    "# df_res_tj = spark.createDataFrame(res_tj, schema=schema)\n",
    "# df_res_tj.show()"
   ]
  },
  {
   "cell_type": "code",
   "execution_count": 30,
   "id": "96a13681",
   "metadata": {},
   "outputs": [
    {
     "data": {
      "text/plain": [
       "[(2, 'l', 'l'),\n",
       " (2, 'l', 'x'),\n",
       " (2, 'l', 'm'),\n",
       " (2, 's', 'l'),\n",
       " (2, 's', 'x'),\n",
       " (2, 's', 'm'),\n",
       " (2, 'd', 'l'),\n",
       " (2, 'd', 'x'),\n",
       " (2, 'd', 'm'),\n",
       " (2, 'm', 'l'),\n",
       " (2, 'm', 'x'),\n",
       " (2, 'm', 'm'),\n",
       " (4, 'y', 'c'),\n",
       " (3, 'a', 'p'),\n",
       " (3, 'a', 'g'),\n",
       " (3, 'z', 'p'),\n",
       " (3, 'z', 'g'),\n",
       " (1, 'v', 'j'),\n",
       " (1, 'v', 'n'),\n",
       " (1, 'c', 'j'),\n",
       " (1, 'c', 'n'),\n",
       " (1, 'v', 'f'),\n",
       " (1, 'v', 'g'),\n",
       " (1, 'c', 'f'),\n",
       " (1, 'c', 'g'),\n",
       " (1, 'u', 'j'),\n",
       " (1, 'u', 'n'),\n",
       " (1, 'e', 'j'),\n",
       " (1, 'e', 'n'),\n",
       " (1, 'r', 'j'),\n",
       " (1, 'r', 'n'),\n",
       " (1, 'u', 'f'),\n",
       " (1, 'u', 'g'),\n",
       " (1, 'e', 'f'),\n",
       " (1, 'e', 'g'),\n",
       " (1, 'r', 'f'),\n",
       " (1, 'r', 'g')]"
      ]
     },
     "execution_count": 30,
     "metadata": {},
     "output_type": "execute_result"
    }
   ],
   "source": [
    "res_tj"
   ]
  },
  {
   "cell_type": "markdown",
   "id": "77a6e691",
   "metadata": {},
   "source": [
    "# Broadcast-Join"
   ]
  },
  {
   "cell_type": "markdown",
   "id": "708811d0",
   "metadata": {},
   "source": [
    "Implementation of Algorithm 7-8 from the paper. "
   ]
  },
  {
   "cell_type": "code",
   "execution_count": 123,
   "id": "663b722a",
   "metadata": {},
   "outputs": [],
   "source": [
    "def mapBuildIndex(x):\n",
    "    \"\"\"\n",
    "    A map function to essentially change the format of the record. \n",
    "    \n",
    "    Input: Record x (in RDD). \n",
    "    Output: Record with the format (key, val). \n",
    "    \"\"\"\n",
    "    return (x[0], x[1])"
   ]
  },
  {
   "cell_type": "markdown",
   "id": "ad124929",
   "metadata": {},
   "source": [
    "Algorithm 8"
   ]
  },
  {
   "cell_type": "code",
   "execution_count": 124,
   "id": "40fd68ba",
   "metadata": {},
   "outputs": [],
   "source": [
    "def mapBroadcastJoin(reci, index):\n",
    "        \"\"\"\n",
    "        A map function that executes locally in executors to get the join results. \n",
    "\n",
    "        Input: \n",
    "        1) A record reci from the non-replicated (non-broadcasted) relation. \n",
    "        2) Broadcasted index\n",
    "        Output: A list of triplets (key, vali, valj) representing the join of x with the broadcasted index. \n",
    "        \"\"\"\n",
    "        u = []\n",
    "        key, vali = reci[0], reci[1] # getKey(reci): reci[0]\n",
    "        if key in index:\n",
    "            index_key = index[key]\n",
    "            for valj in index_key:\n",
    "                u.append((key, vali, valj))\n",
    "        return u"
   ]
  },
  {
   "cell_type": "markdown",
   "id": "2275a1dc",
   "metadata": {},
   "source": [
    "Algorithm 7"
   ]
  },
  {
   "cell_type": "code",
   "execution_count": 125,
   "id": "a219f1b8",
   "metadata": {},
   "outputs": [],
   "source": [
    "def broadcastJoin(R, S):\n",
    "    \"\"\"\n",
    "    Main function of Broadcast-Join. \n",
    "    \n",
    "    Input: Two relations to be joined, R and S (in RDD). \n",
    "    Output: The join results with the format [(key, val1, val2), ...]. \n",
    "    \"\"\"\n",
    "#     print('R partitions: ', R.getNumPartitions())\n",
    "#     print('S partitions: ', R.getNumPartitions())\n",
    "#     index = S.map(mapBuildIndex).groupByKey().mapValues(list).collectAsMap() # inefficient\n",
    "    index = S.map(mapBuildIndex).combineByKey(to_list, append, extend).collectAsMap()\n",
    "#     print('index: ', index)\n",
    "    # Broadcast index\n",
    "    broadcast_index = spark.sparkContext.broadcast(index)\n",
    "    Q = R.map(lambda reci: mapBroadcastJoin(reci, broadcast_index.value)).filter(lambda x: len(x) > 0).flatMap(lambda x: x)\n",
    "    return Q"
   ]
  },
  {
   "cell_type": "markdown",
   "id": "a3754756",
   "metadata": {},
   "source": [
    "# Run Broadcast-Join "
   ]
  },
  {
   "cell_type": "code",
   "execution_count": 126,
   "id": "7f742dc5",
   "metadata": {},
   "outputs": [
    {
     "data": {
      "text/plain": [
       "([Row(key=2, rec='l'),\n",
       "  Row(key=2, rec='s'),\n",
       "  Row(key=2, rec='d'),\n",
       "  Row(key=2, rec='m'),\n",
       "  Row(key=4, rec='y'),\n",
       "  Row(key=1, rec='v'),\n",
       "  Row(key=1, rec='c'),\n",
       "  Row(key=1, rec='u'),\n",
       "  Row(key=1, rec='e'),\n",
       "  Row(key=1, rec='r'),\n",
       "  Row(key=3, rec='a'),\n",
       "  Row(key=3, rec='z'),\n",
       "  Row(key=6, rec='b')],\n",
       " [Row(key=2, rec='l'),\n",
       "  Row(key=2, rec='x'),\n",
       "  Row(key=2, rec='m'),\n",
       "  Row(key=1, rec='j'),\n",
       "  Row(key=1, rec='n'),\n",
       "  Row(key=1, rec='f'),\n",
       "  Row(key=1, rec='g'),\n",
       "  Row(key=3, rec='p'),\n",
       "  Row(key=3, rec='g'),\n",
       "  Row(key=4, rec='c'),\n",
       "  Row(key=5, rec='g')])"
      ]
     },
     "execution_count": 126,
     "metadata": {},
     "output_type": "execute_result"
    }
   ],
   "source": [
    "# Reuse Tree-Join's sample data\n",
    "rdd_R_bj = df_R_tj.rdd\n",
    "rdd_S_bj = df_S_tj.rdd\n",
    "rdd_R_bj.collect(), rdd_S_bj.collect()"
   ]
  },
  {
   "cell_type": "markdown",
   "id": "c5c88fb3",
   "metadata": {},
   "source": [
    "## Record elapsed time"
   ]
  },
  {
   "cell_type": "code",
   "execution_count": 127,
   "id": "2f1cd257",
   "metadata": {},
   "outputs": [
    {
     "name": "stdout",
     "output_type": "stream",
     "text": [
      "0.14857220649719238\n"
     ]
    }
   ],
   "source": [
    "start = time.time()\n",
    "res_bj = broadcastJoin(rdd_R_bj, rdd_S_bj).collect()\n",
    "end = time.time()\n",
    "print(end - start)"
   ]
  },
  {
   "cell_type": "code",
   "execution_count": 128,
   "id": "3cfcfd54",
   "metadata": {},
   "outputs": [
    {
     "name": "stdout",
     "output_type": "stream",
     "text": [
      "0.12271881103515625\n"
     ]
    }
   ],
   "source": [
    "start = time.time()\n",
    "expected_bj = rdd_R_bj.join(rdd_S_bj).collect()\n",
    "end = time.time()\n",
    "print(end - start)"
   ]
  },
  {
   "cell_type": "markdown",
   "id": "021dd711",
   "metadata": {},
   "source": [
    "## Check for correctness of result"
   ]
  },
  {
   "cell_type": "code",
   "execution_count": 87,
   "id": "305d7a13",
   "metadata": {},
   "outputs": [],
   "source": [
    "test_correctness(res_bj, expected_bj)\n",
    "# No error means OK. "
   ]
  },
  {
   "cell_type": "markdown",
   "id": "c2d98010",
   "metadata": {},
   "source": [
    "## Show result"
   ]
  },
  {
   "cell_type": "code",
   "execution_count": 38,
   "id": "6c834d7a",
   "metadata": {},
   "outputs": [
    {
     "data": {
      "text/plain": [
       "[(2, 'l', 'l'),\n",
       " (2, 'l', 'x'),\n",
       " (2, 'l', 'm'),\n",
       " (2, 's', 'l'),\n",
       " (2, 's', 'x'),\n",
       " (2, 's', 'm'),\n",
       " (2, 'd', 'l'),\n",
       " (2, 'd', 'x'),\n",
       " (2, 'd', 'm'),\n",
       " (2, 'm', 'l'),\n",
       " (2, 'm', 'x'),\n",
       " (2, 'm', 'm'),\n",
       " (4, 'y', 'c'),\n",
       " (1, 'v', 'j'),\n",
       " (1, 'v', 'n'),\n",
       " (1, 'v', 'f'),\n",
       " (1, 'v', 'g'),\n",
       " (1, 'c', 'j'),\n",
       " (1, 'c', 'n'),\n",
       " (1, 'c', 'f'),\n",
       " (1, 'c', 'g'),\n",
       " (1, 'u', 'j'),\n",
       " (1, 'u', 'n'),\n",
       " (1, 'u', 'f'),\n",
       " (1, 'u', 'g'),\n",
       " (1, 'e', 'j'),\n",
       " (1, 'e', 'n'),\n",
       " (1, 'e', 'f'),\n",
       " (1, 'e', 'g'),\n",
       " (1, 'r', 'j'),\n",
       " (1, 'r', 'n'),\n",
       " (1, 'r', 'f'),\n",
       " (1, 'r', 'g'),\n",
       " (3, 'a', 'p'),\n",
       " (3, 'a', 'g'),\n",
       " (3, 'z', 'p'),\n",
       " (3, 'z', 'g')]"
      ]
     },
     "execution_count": 38,
     "metadata": {},
     "output_type": "execute_result"
    }
   ],
   "source": [
    "res_bj"
   ]
  },
  {
   "cell_type": "markdown",
   "id": "ad550572",
   "metadata": {},
   "source": [
    "# IB-FO-Join implementation"
   ]
  },
  {
   "cell_type": "markdown",
   "id": "c1f9dfdd",
   "metadata": {},
   "source": [
    "Implementation of Algorithm 9-12 from the paper. "
   ]
  },
  {
   "cell_type": "markdown",
   "id": "b5c4e8e7",
   "metadata": {},
   "source": [
    "Algorithm 10"
   ]
  },
  {
   "cell_type": "code",
   "execution_count": 129,
   "id": "d23cdccc",
   "metadata": {},
   "outputs": [],
   "source": [
    "def mapBroadcastLeftOuterJoin(reci, index):\n",
    "    \"\"\"\n",
    "    A map function that executes locally in executors to get the left outer join results. \n",
    "\n",
    "    Input: \n",
    "    1) A record reci from the non-replicated (non-broadcasted) relation. \n",
    "    2) Broadcasted index\n",
    "    Output: A list of triplets (key, vali, valj) representing the join of x with the broadcasted index. \n",
    "    \"\"\"\n",
    "    u = []\n",
    "    key, vali = reci[0], reci[1] # getKey(reci): reci[0]\n",
    "    if key in index:\n",
    "        index_key = index[key]\n",
    "        for valj in index_key:\n",
    "            u.append((key, vali, valj))\n",
    "    else:\n",
    "        u.append((key, vali, None))\n",
    "    return u"
   ]
  },
  {
   "cell_type": "markdown",
   "id": "86d4ca1a",
   "metadata": {},
   "source": [
    "Algorithm 11"
   ]
  },
  {
   "cell_type": "code",
   "execution_count": 130,
   "id": "ef217e9c",
   "metadata": {},
   "outputs": [],
   "source": [
    "def mapGetRightJoinableKey(reci, index):\n",
    "    \"\"\"\n",
    "    A map function that executes locally in executors to return the key of a record if it is joinable with broadcast_index. \n",
    "\n",
    "    Input: \n",
    "    1) A record reci from the non-replicated (non-broadcasted) relation. \n",
    "    2) Broadcasted index\n",
    "    Output: The key of record reci if it is joinable with broadcast_index. \n",
    "    \"\"\"\n",
    "    u = set()\n",
    "    key = reci[0] # getKey(reci): reci[0]\n",
    "    if key in index:\n",
    "        u.add(key)\n",
    "    return u"
   ]
  },
  {
   "cell_type": "markdown",
   "id": "0754df70",
   "metadata": {},
   "source": [
    "Algorithm 12"
   ]
  },
  {
   "cell_type": "code",
   "execution_count": 131,
   "id": "764cb2ed",
   "metadata": {},
   "outputs": [],
   "source": [
    "def mapRightAntiJoin(recj, keysUnjoinable):\n",
    "    \"\"\"\n",
    "    A map function that executes locally in executors to get the right anti join results. \n",
    "    \n",
    "    Input: \n",
    "    1) A record recj from the replicated (broadcasted) relation. \n",
    "    2) Broadcasted keys that are unjoined\n",
    "    Output: The join results of recj if its key is in keysUnjoinable with the format (key, vali, valj). \n",
    "    \"\"\"\n",
    "    key, valj = recj[0], recj[1] # getKey(recj): recj[0]\n",
    "    if key in keysUnjoinable:\n",
    "        return (key, None, valj)\n",
    "    return ()"
   ]
  },
  {
   "cell_type": "markdown",
   "id": "9e33867c",
   "metadata": {},
   "source": [
    "Algorithm 9"
   ]
  },
  {
   "cell_type": "code",
   "execution_count": 132,
   "id": "8b040ba6",
   "metadata": {},
   "outputs": [],
   "source": [
    "def indexBroadcastFullOuterJoin(R, S):\n",
    "    \"\"\"\n",
    "    Main function of IB-FO-Join. \n",
    "    \n",
    "    Input: Two relations to be joined, R and S (in RDD). \n",
    "    Output: The join results with the format [(key, val1, val2), ...].\n",
    "    \"\"\"\n",
    "#     print('R partitions: ', R.getNumPartitions())\n",
    "#     print('S partitions: ', R.getNumPartitions())\n",
    "    \n",
    "    index = S.map(mapBuildIndex).combineByKey(to_list, append, extend).collectAsMap()\n",
    "#     print('index: ', index)\n",
    "    # Broadcast index\n",
    "    broadcast_index = spark.sparkContext.broadcast(index)\n",
    "    Q_leftOuter = R.map(lambda reci: mapBroadcastLeftOuterJoin(reci, broadcast_index.value)).flatMap(lambda x: x)\n",
    "#     print('Q_leftOuter: ', Q_leftOuter.collect())\n",
    "    unionSet = lambda x, y: x.union(y)\n",
    "    # A set of keys that have been left-outer-joined\n",
    "    keysJoined = R.map(lambda reci: mapGetRightJoinableKey(reci, broadcast_index.value)).treeAggregate(set(), unionSet, unionSet)\n",
    "#     print('keysJoined: ', keysJoined)\n",
    "    keysUnjoinable = set(broadcast_index.value.keys()) - keysJoined\n",
    "#     print('keysUnjoinable: ', keysUnjoinable)\n",
    "    broadcast_keysUnjoinable = spark.sparkContext.broadcast(keysUnjoinable)\n",
    "    Q_rightAnti = S.map(lambda recj: mapRightAntiJoin(recj, broadcast_keysUnjoinable.value)).filter(lambda x: len(x) > 0)\n",
    "    return Q_leftOuter.union(Q_rightAnti)"
   ]
  },
  {
   "cell_type": "markdown",
   "id": "b6d56625",
   "metadata": {},
   "source": [
    "Note to self: Prefer `S.map(mapBuildIndex).combineByKey(to_list, append, extend)` over `S.map(mapBuildIndex).groupByKey().mapValues(list)` for efficiency reasons. "
   ]
  },
  {
   "cell_type": "markdown",
   "id": "5bdb520a",
   "metadata": {},
   "source": [
    "# Run IB-FO-Join "
   ]
  },
  {
   "cell_type": "code",
   "execution_count": 133,
   "id": "4c2bf203",
   "metadata": {},
   "outputs": [
    {
     "data": {
      "text/plain": [
       "([Row(key=2, rec='l'),\n",
       "  Row(key=2, rec='s'),\n",
       "  Row(key=2, rec='d'),\n",
       "  Row(key=2, rec='m'),\n",
       "  Row(key=4, rec='y'),\n",
       "  Row(key=1, rec='v'),\n",
       "  Row(key=1, rec='c'),\n",
       "  Row(key=1, rec='u'),\n",
       "  Row(key=1, rec='e'),\n",
       "  Row(key=1, rec='r'),\n",
       "  Row(key=3, rec='a'),\n",
       "  Row(key=3, rec='z'),\n",
       "  Row(key=6, rec='b')],\n",
       " [Row(key=2, rec='l'),\n",
       "  Row(key=2, rec='x'),\n",
       "  Row(key=2, rec='m'),\n",
       "  Row(key=1, rec='j'),\n",
       "  Row(key=1, rec='n'),\n",
       "  Row(key=1, rec='f'),\n",
       "  Row(key=1, rec='g'),\n",
       "  Row(key=3, rec='p'),\n",
       "  Row(key=3, rec='g'),\n",
       "  Row(key=4, rec='c'),\n",
       "  Row(key=5, rec='g')])"
      ]
     },
     "execution_count": 133,
     "metadata": {},
     "output_type": "execute_result"
    }
   ],
   "source": [
    "# Reuse Tree-Join's sample data\n",
    "rdd_R_ibfo = df_R_tj.rdd\n",
    "rdd_S_ibfo = df_S_tj.rdd\n",
    "rdd_R_ibfo.collect(), rdd_S_ibfo.collect()"
   ]
  },
  {
   "cell_type": "markdown",
   "id": "324ceebe",
   "metadata": {},
   "source": [
    "## Record elapsed time"
   ]
  },
  {
   "cell_type": "code",
   "execution_count": 134,
   "id": "ee80e7d2",
   "metadata": {},
   "outputs": [
    {
     "name": "stdout",
     "output_type": "stream",
     "text": [
      "0.20778799057006836\n"
     ]
    }
   ],
   "source": [
    "start = time.time()\n",
    "res_ibfo = indexBroadcastFullOuterJoin(rdd_R_ibfo, rdd_S_ibfo).collect()\n",
    "end = time.time()\n",
    "print(end - start)"
   ]
  },
  {
   "cell_type": "code",
   "execution_count": 94,
   "id": "57ffb6bd",
   "metadata": {},
   "outputs": [
    {
     "name": "stdout",
     "output_type": "stream",
     "text": [
      "0.13074398040771484\n"
     ]
    }
   ],
   "source": [
    "start = time.time()\n",
    "expected_ibfo = rdd_R_ibfo.fullOuterJoin(rdd_S_ibfo).collect()\n",
    "end = time.time()\n",
    "print(end - start)## Check for correctness of result"
   ]
  },
  {
   "cell_type": "markdown",
   "id": "96ac9075",
   "metadata": {},
   "source": [
    "## Check for correctness of result"
   ]
  },
  {
   "cell_type": "code",
   "execution_count": 95,
   "id": "8e184076",
   "metadata": {},
   "outputs": [],
   "source": [
    "test_correctness(res_ibfo, expected_ibfo)\n",
    "# No error means OK."
   ]
  },
  {
   "cell_type": "markdown",
   "id": "9b7820de",
   "metadata": {},
   "source": [
    "## Show result"
   ]
  },
  {
   "cell_type": "code",
   "execution_count": 96,
   "id": "e72a7fb8",
   "metadata": {},
   "outputs": [
    {
     "data": {
      "text/plain": [
       "[(2, 'l', 'l'),\n",
       " (2, 'l', 'x'),\n",
       " (2, 'l', 'm'),\n",
       " (2, 's', 'l'),\n",
       " (2, 's', 'x'),\n",
       " (2, 's', 'm'),\n",
       " (2, 'd', 'l'),\n",
       " (2, 'd', 'x'),\n",
       " (2, 'd', 'm'),\n",
       " (2, 'm', 'l'),\n",
       " (2, 'm', 'x'),\n",
       " (2, 'm', 'm'),\n",
       " (4, 'y', 'c'),\n",
       " (1, 'v', 'j'),\n",
       " (1, 'v', 'n'),\n",
       " (1, 'v', 'f'),\n",
       " (1, 'v', 'g'),\n",
       " (1, 'c', 'j'),\n",
       " (1, 'c', 'n'),\n",
       " (1, 'c', 'f'),\n",
       " (1, 'c', 'g'),\n",
       " (1, 'u', 'j'),\n",
       " (1, 'u', 'n'),\n",
       " (1, 'u', 'f'),\n",
       " (1, 'u', 'g'),\n",
       " (1, 'e', 'j'),\n",
       " (1, 'e', 'n'),\n",
       " (1, 'e', 'f'),\n",
       " (1, 'e', 'g'),\n",
       " (1, 'r', 'j'),\n",
       " (1, 'r', 'n'),\n",
       " (1, 'r', 'f'),\n",
       " (1, 'r', 'g'),\n",
       " (3, 'a', 'p'),\n",
       " (3, 'a', 'g'),\n",
       " (3, 'z', 'p'),\n",
       " (3, 'z', 'g'),\n",
       " (6, 'b', None),\n",
       " (5, None, 'g')]"
      ]
     },
     "execution_count": 96,
     "metadata": {},
     "output_type": "execute_result"
    }
   ],
   "source": [
    "res_ibfo"
   ]
  },
  {
   "cell_type": "markdown",
   "id": "6e06cee3",
   "metadata": {},
   "source": [
    "# AM-Join implementation"
   ]
  },
  {
   "cell_type": "markdown",
   "id": "bd3368ec",
   "metadata": {},
   "source": [
    "Implementation of Algorithm 13-14 from the paper. "
   ]
  },
  {
   "cell_type": "code",
   "execution_count": 135,
   "id": "d608ff22",
   "metadata": {},
   "outputs": [],
   "source": [
    "def getHotKeys(L, k):\n",
    "    \"\"\"\n",
    "    A function to get top-k hot keys using approximate distributed heavy hitters Space-Saving algorithm. \n",
    "    Recall that this algorithm is an approximation, inaccuracies in the result are expected to some extent. \n",
    "    \n",
    "    Input: The records L from one relation. \n",
    "    Output: A list of hot keys with length k. \n",
    "    \"\"\"\n",
    "    threshold = math.floor(math.sqrt(1 + math.sqrt(2 + lmbd)) ** 3) - 2\n",
    "    def update_counters(counters, rec):\n",
    "        key = rec[0]\n",
    "        if key in counters:\n",
    "            counters[key] += 1\n",
    "        elif len(counters) < k:\n",
    "            counters[key] = 1\n",
    "        else:\n",
    "            min_key = min(counters, key=counters.get)\n",
    "            min_cnt = counters[min_key]\n",
    "            # Check if the count is above threshold\n",
    "            if min_cnt < threshold:\n",
    "                counters[key] = 1\n",
    "                del counters[min_key]\n",
    "        return counters\n",
    "    def merge_counters(counters1, counters2):\n",
    "        merged_counters = defaultdict(int)\n",
    "        for key, cnt in counters1.items():\n",
    "            merged_counters[key] += cnt\n",
    "        for key, cnt in counters2.items():\n",
    "            merged_counters[key] += cnt\n",
    "        return dict(merged_counters)\n",
    "    merged_counters = L.aggregate(defaultdict(int), update_counters, merge_counters)\n",
    "    return set(merged_counters.keys())"
   ]
  },
  {
   "cell_type": "code",
   "execution_count": 136,
   "id": "05d4be09",
   "metadata": {},
   "outputs": [],
   "source": [
    "def getNumHotKeys(L):\n",
    "    \"\"\"\n",
    "    A function that returns the maximum number of hot keys that should come out of records L.\n",
    "    \n",
    "    Input: The records L from one relation. \n",
    "    Output: The maximum number of hot keys.\n",
    "    \"\"\"\n",
    "    return math.ceil(L.count() / (math.sqrt(1 + math.sqrt(2 + lmbd)) ** 3))"
   ]
  },
  {
   "cell_type": "code",
   "execution_count": 137,
   "id": "cd446ba7",
   "metadata": {},
   "outputs": [],
   "source": [
    "def splitRelationPartitions(L, K):\n",
    "    \"\"\"\n",
    "    A function that splits the relation L based on whether its key belong to a set of keys K. \n",
    "    \n",
    "    Input: The records L from one relation. \n",
    "    Output: Two split records LH, which matches the set of keys K, and LC, which does not. \n",
    "    \"\"\"\n",
    "    L_cached = L.cache()\n",
    "    LH = L_cached.filter(lambda rec: rec[0] in K)\n",
    "    LC = L_cached.filter(lambda rec: rec[0] not in K)\n",
    "    return (LH, LC)"
   ]
  },
  {
   "cell_type": "markdown",
   "id": "96f1703d",
   "metadata": {},
   "source": [
    "Algorithm 13"
   ]
  },
  {
   "cell_type": "code",
   "execution_count": 138,
   "id": "f7d42424",
   "metadata": {},
   "outputs": [],
   "source": [
    "def splitRelations(R, KR, KS):\n",
    "    \"\"\"\n",
    "    A function that splits the relation R based on the hot keys KR and KS. \n",
    "    \n",
    "    Input: A relation R to be split, and the hot keys KR and KS. \n",
    "    Output: The four splits of R. \n",
    "    \"\"\"\n",
    "    RH, RC = splitRelationPartitions(R, KR)\n",
    "    RHH, RHC = splitRelationPartitions(RH, KS)\n",
    "    RCH, RCC = splitRelationPartitions(RC, KS)\n",
    "    return (RHH, RHC, RCH, RCC)"
   ]
  },
  {
   "cell_type": "code",
   "execution_count": 139,
   "id": "3cebcb10",
   "metadata": {},
   "outputs": [],
   "source": [
    "def mapSwapJoinedRecords(x):\n",
    "    \"\"\"\n",
    "    A map function to swap column values.\n",
    "    \n",
    "    Input: A record x. \n",
    "    Output: The record x with swapped column values. \n",
    "    \"\"\"\n",
    "    return (x[0], x[2], x[1])"
   ]
  },
  {
   "cell_type": "code",
   "execution_count": 140,
   "id": "924ee01c",
   "metadata": {},
   "outputs": [],
   "source": [
    "def mapFormatSparkJoinedRecords(x):\n",
    "    \"\"\"\n",
    "    A map function to format records that resulted from a join operation by Spark.\n",
    "    \n",
    "    Input: A record x. \n",
    "    Output: The formatted record x. \n",
    "    \"\"\"\n",
    "    return (x[0], x[1][0], x[1][1]) "
   ]
  },
  {
   "cell_type": "markdown",
   "id": "3d49095e",
   "metadata": {},
   "source": [
    "Algorithm 13"
   ]
  },
  {
   "cell_type": "code",
   "execution_count": 141,
   "id": "e60aa73a",
   "metadata": {},
   "outputs": [],
   "source": [
    "def amJoin(R, S):\n",
    "    \"\"\"\n",
    "    Main function of AM-Join. \n",
    "    \n",
    "    Input: Two relations to be joined, R and S (in RDD). \n",
    "    Output: The join results with the format [(key, val1, val2), ...].\n",
    "    \"\"\"\n",
    "#     print('R partitions: ', R.getNumPartitions())\n",
    "#     print('S partitions: ', R.getNumPartitions())\n",
    "    kR = getNumHotKeys(R)\n",
    "    KR = getHotKeys(R, kR)\n",
    "    kS = getNumHotKeys(S)\n",
    "    KS = getHotKeys(S, kS)\n",
    "#     print('kR: ', kR)\n",
    "#     print('KR: ', KR)\n",
    "#     print('kS: ', kS)\n",
    "#     print('KS: ', KS)\n",
    "    RHH, RHC, RCH, RCC = splitRelations(R, KR, KS)\n",
    "    SHH, SHC, SCH, SCC = splitRelations(S, KS, KR)\n",
    "#     print('RHH: ', RHH.collect())\n",
    "#     print('RHC: ', RHC.collect())\n",
    "#     print('RCH: ', RCH.collect())\n",
    "#     print('RCC: ', RCC.collect())\n",
    "#     print('SHH: ', SHH.collect())\n",
    "#     print('SHC: ', SHC.collect())\n",
    "#     print('SCH: ', SCH.collect())\n",
    "#     print('SCC: ', SCC.collect())\n",
    "    # (RHH x SHH) U (RHC x SCH) U (SHC x RCH) U (RCC x SCC)\n",
    "    Q = treeJoin(RHH, SHH).union(broadcastJoin(RHC, SCH)).union(broadcastJoin(SHC, RCH).map(mapSwapJoinedRecords)).union(RCC.join(SCC).map(mapFormatSparkJoinedRecords))\n",
    "    return Q"
   ]
  },
  {
   "cell_type": "code",
   "execution_count": 142,
   "id": "82e47e80",
   "metadata": {},
   "outputs": [
    {
     "name": "stdout",
     "output_type": "stream",
     "text": [
      "+---+---+\n",
      "|key|rec|\n",
      "+---+---+\n",
      "|  1|  e|\n",
      "|  1|  q|\n",
      "|  2|  c|\n",
      "|  2|  e|\n",
      "|  3|  t|\n",
      "|  3|  e|\n",
      "|  4|  s|\n",
      "|  4|  k|\n",
      "|  5|  w|\n",
      "|  6|  c|\n",
      "|  7|  r|\n",
      "|  8|  n|\n",
      "|  9|  q|\n",
      "| 10|  r|\n",
      "+---+---+\n",
      "\n",
      "+---+---+\n",
      "|key|rec|\n",
      "+---+---+\n",
      "|  1|  x|\n",
      "|  1|  j|\n",
      "| 11|  q|\n",
      "| 11|  n|\n",
      "|  6|  h|\n",
      "|  6|  b|\n",
      "| 12|  t|\n",
      "| 12|  g|\n",
      "|  5|  m|\n",
      "|  4|  p|\n",
      "|  7|  d|\n",
      "|  8|  v|\n",
      "|  9|  h|\n",
      "| 13|  y|\n",
      "+---+---+\n",
      "\n"
     ]
    },
    {
     "data": {
      "text/plain": [
       "(None, None)"
      ]
     },
     "execution_count": 142,
     "metadata": {},
     "output_type": "execute_result"
    }
   ],
   "source": [
    "# Read AM-Join sample data\n",
    "df_R_am =spark.read.option('header','true').csv('./data/am_R.csv', inferSchema=True)\n",
    "df_S_am = spark.read.option('header','true').csv('./data/am_S.csv', inferSchema=True)\n",
    "df_R_am.show(), df_S_am.show()"
   ]
  },
  {
   "cell_type": "markdown",
   "id": "be2b1075",
   "metadata": {},
   "source": [
    "# Run AM-Join"
   ]
  },
  {
   "cell_type": "code",
   "execution_count": 143,
   "id": "9fc6db16",
   "metadata": {
    "scrolled": false
   },
   "outputs": [
    {
     "data": {
      "text/plain": [
       "([Row(key=1, rec='e'),\n",
       "  Row(key=1, rec='q'),\n",
       "  Row(key=2, rec='c'),\n",
       "  Row(key=2, rec='e'),\n",
       "  Row(key=3, rec='t'),\n",
       "  Row(key=3, rec='e'),\n",
       "  Row(key=4, rec='s'),\n",
       "  Row(key=4, rec='k'),\n",
       "  Row(key=5, rec='w'),\n",
       "  Row(key=6, rec='c'),\n",
       "  Row(key=7, rec='r'),\n",
       "  Row(key=8, rec='n'),\n",
       "  Row(key=9, rec='q'),\n",
       "  Row(key=10, rec='r')],\n",
       " [Row(key=1, rec='x'),\n",
       "  Row(key=1, rec='j'),\n",
       "  Row(key=11, rec='q'),\n",
       "  Row(key=11, rec='n'),\n",
       "  Row(key=6, rec='h'),\n",
       "  Row(key=6, rec='b'),\n",
       "  Row(key=12, rec='t'),\n",
       "  Row(key=12, rec='g'),\n",
       "  Row(key=5, rec='m'),\n",
       "  Row(key=4, rec='p'),\n",
       "  Row(key=7, rec='d'),\n",
       "  Row(key=8, rec='v'),\n",
       "  Row(key=9, rec='h'),\n",
       "  Row(key=13, rec='y')])"
      ]
     },
     "execution_count": 143,
     "metadata": {},
     "output_type": "execute_result"
    }
   ],
   "source": [
    "rdd_R_am = df_R_am.rdd\n",
    "rdd_S_am = df_S_am.rdd\n",
    "rdd_R_am.collect(), rdd_S_am.collect()"
   ]
  },
  {
   "cell_type": "markdown",
   "id": "c7779c7f",
   "metadata": {},
   "source": [
    "## Record elapsed time"
   ]
  },
  {
   "cell_type": "code",
   "execution_count": 144,
   "id": "bfe993b0",
   "metadata": {},
   "outputs": [
    {
     "name": "stdout",
     "output_type": "stream",
     "text": [
      "0.79380202293396\n"
     ]
    }
   ],
   "source": [
    "start = time.time()\n",
    "res_am = amJoin(rdd_R_am, rdd_S_am).collect()\n",
    "end = time.time()\n",
    "print(end - start)"
   ]
  },
  {
   "cell_type": "code",
   "execution_count": 109,
   "id": "e99adefd",
   "metadata": {},
   "outputs": [
    {
     "name": "stdout",
     "output_type": "stream",
     "text": [
      "0.11641287803649902\n"
     ]
    }
   ],
   "source": [
    "start = time.time()\n",
    "expected_am = rdd_R_am.join(rdd_S_am).collect()\n",
    "end = time.time()\n",
    "print(end - start)"
   ]
  },
  {
   "cell_type": "markdown",
   "id": "b9a85440",
   "metadata": {},
   "source": [
    "## Check for correctness of result"
   ]
  },
  {
   "cell_type": "code",
   "execution_count": 110,
   "id": "39c96944",
   "metadata": {},
   "outputs": [],
   "source": [
    "test_correctness(res_am, expected_am)\n",
    "# No error means OK."
   ]
  },
  {
   "cell_type": "markdown",
   "id": "8ea8b501",
   "metadata": {},
   "source": [
    "## Show result"
   ]
  },
  {
   "cell_type": "code",
   "execution_count": 111,
   "id": "506cbfed",
   "metadata": {
    "scrolled": false
   },
   "outputs": [
    {
     "data": {
      "text/plain": [
       "[(1, 'e', 'x'),\n",
       " (1, 'e', 'j'),\n",
       " (1, 'q', 'x'),\n",
       " (1, 'q', 'j'),\n",
       " (4, 's', 'p'),\n",
       " (4, 'k', 'p'),\n",
       " (6, 'c', 'h'),\n",
       " (6, 'c', 'b'),\n",
       " (8, 'n', 'v'),\n",
       " (5, 'w', 'm'),\n",
       " (7, 'r', 'd'),\n",
       " (9, 'q', 'h')]"
      ]
     },
     "execution_count": 111,
     "metadata": {},
     "output_type": "execute_result"
    }
   ],
   "source": [
    "res_am"
   ]
  },
  {
   "cell_type": "markdown",
   "id": "afa20840",
   "metadata": {},
   "source": [
    "# Experiments"
   ]
  },
  {
   "cell_type": "markdown",
   "id": "ef90a8f5",
   "metadata": {},
   "source": [
    "## Details"
   ]
  },
  {
   "cell_type": "markdown",
   "id": "1c3dbec2",
   "metadata": {},
   "source": [
    "### Datasets\n",
    "* First variant on **size**\n",
    "     - Record size: 10^3, 10^4, 10^5, 10^6, 10^7, 10^8 records\n",
    "     - Keys: Selected from uniform distribution with domain size of 2^32 (32-bit integer space)\n",
    "* Second variant on **skewness**\n",
    "     - Record size: 10^3 records\n",
    "     - Keys: Selected from zipf-a distribution with domain size 10^2, with a values of 1.2, 1.4, 1.6, 1.8\n",
    "### Join algorithms\n",
    "- Tree-Join\n",
    "- Broadcast-Join\n",
    "- AM-Join\n",
    "### Scenarios\n",
    "- Increasing record size\n",
    "- Increasing skewness\n",
    "- Increasing number of cores\n",
    "\n",
    "### Metrics\n",
    "- Execution time"
   ]
  },
  {
   "cell_type": "code",
   "execution_count": 62,
   "id": "4e64fb5f",
   "metadata": {},
   "outputs": [],
   "source": [
    "def generate_data_spec_zipf_key(alpha, record_size, domain_size):\n",
    "    sample = np.random.zipf(alpha, record_size)\n",
    "    sample = np.clip(sample, 1, domain_size)\n",
    "    keys, cnts = np.unique(sample, return_counts=True)\n",
    "    return (keys, cnts)"
   ]
  },
  {
   "cell_type": "code",
   "execution_count": 63,
   "id": "4f524308",
   "metadata": {},
   "outputs": [],
   "source": [
    "def generate_data_spec_uniform_key(record_size, domain_size):\n",
    "    sample = np.random.randint(1, domain_size, record_size)\n",
    "    keys, cnts = np.unique(sample, return_counts=True)\n",
    "    return (keys, cnts)"
   ]
  },
  {
   "cell_type": "code",
   "execution_count": 64,
   "id": "599253b7",
   "metadata": {},
   "outputs": [],
   "source": [
    "def generate_experiment_data_csv(file_name, spec, max_sample_value=None): # spec: [key, ...], [cnt[key], ...]\n",
    "    with open(f'{file_name}.csv', 'w') as fhand:\n",
    "        fhand.write('key,rec\\n')\n",
    "        keys, cnts = spec[0], spec[1]\n",
    "        if max_sample_value == None:\n",
    "            max_sample_value = max(cnts) + 1\n",
    "        for i in range(len(keys)):\n",
    "            # Assign (distinct) random number(s) for each key\n",
    "            recs = random.sample(range(1, max_sample_value), cnts[i])\n",
    "            for j in range(cnts[i]):\n",
    "                fhand.write(f'{keys[i]},{recs[j]}\\n')\n",
    "    fhand.close()"
   ]
  },
  {
   "cell_type": "markdown",
   "id": "35e028db",
   "metadata": {},
   "source": [
    "## First variant of dataset"
   ]
  },
  {
   "cell_type": "code",
   "execution_count": 65,
   "id": "57f0b846",
   "metadata": {},
   "outputs": [
    {
     "data": {
      "text/plain": [
       "(array([     18305,      36138,      71279, ..., 2147455359, 2147456763,\n",
       "        2147473075]),\n",
       " array([1, 1, 1, ..., 1, 1, 1]))"
      ]
     },
     "execution_count": 65,
     "metadata": {},
     "output_type": "execute_result"
    }
   ],
   "source": [
    "first_spec_R = generate_data_spec_uniform_key(100000, 2 ** 31)\n",
    "first_spec_S = generate_data_spec_uniform_key(100000, 2 ** 31)\n",
    "first_spec_R"
   ]
  },
  {
   "cell_type": "code",
   "execution_count": 66,
   "id": "cac2782f",
   "metadata": {},
   "outputs": [],
   "source": [
    "# Generate CSV files\n",
    "data_sizes = [1000, 10000, 100000, 1000000, 10000000, 100000000]\n",
    "# for size in data_sizes:\n",
    "#     generate_experiment_data_csv(f'./data/first-R-{size}', first_spec_R, size)\n",
    "#     generate_experiment_data_csv(f'./data/first-S-{size}', first_spec_S, size)"
   ]
  },
  {
   "cell_type": "markdown",
   "id": "0d9f1e92",
   "metadata": {},
   "source": [
    "## Second variant of dataset"
   ]
  },
  {
   "cell_type": "code",
   "execution_count": 73,
   "id": "7bca7a0c",
   "metadata": {},
   "outputs": [
    {
     "data": {
      "text/plain": [
       "[(array([  1,   2,   3,   4,   5,   6,   7,   8,   9,  10,  11,  12,  13,\n",
       "          14,  15,  16,  17,  18,  19,  20,  21,  22,  23,  24,  25,  26,\n",
       "          27,  28,  29,  30,  31,  32,  33,  34,  35,  36,  37,  38,  39,\n",
       "          40,  41,  42,  43,  44,  45,  46,  47,  48,  50,  51,  52,  53,\n",
       "          54,  55,  56,  58,  59,  60,  61,  62,  63,  65,  66,  67,  68,\n",
       "          69,  72,  73,  74,  75,  77,  78,  80,  83,  86,  87,  88,  90,\n",
       "          91,  92,  96,  97,  99, 100]),\n",
       "  array([166,  77,  49,  24,  27,  23,  15,  16,  10,  10,  12,   4,   9,\n",
       "          12,   8,   9,   5,   1,   5,   4,   2,   7,   2,   4,   6,   4,\n",
       "           3,   3,   5,   6,   1,   5,   1,   2,   1,   3,   3,   3,   3,\n",
       "           2,   1,   3,   6,   3,   3,   4,   1,   1,   2,   1,   3,   2,\n",
       "           3,   1,   2,   1,   2,   2,   1,   1,   3,   1,   2,   2,   1,\n",
       "           2,   1,   1,   1,   2,   1,   1,   3,   1,   2,   1,   1,   1,\n",
       "           1,   1,   1,   1,   3, 371])),\n",
       " (array([  1,   2,   3,   4,   5,   6,   7,   8,   9,  10,  11,  12,  13,\n",
       "          14,  15,  16,  17,  18,  19,  20,  21,  22,  23,  24,  25,  26,\n",
       "          27,  28,  29,  30,  31,  32,  33,  34,  35,  36,  37,  39,  40,\n",
       "          41,  42,  43,  45,  46,  47,  48,  49,  50,  51,  53,  54,  55,\n",
       "          57,  58,  60,  61,  63,  66,  68,  71,  72,  74,  77,  79,  81,\n",
       "          86,  87,  88,  90,  93,  96,  98, 100]),\n",
       "  array([336, 121,  78,  42,  30,  16,  12,  17,  14,  11,  14,   8,   5,\n",
       "          10,   8,   6,   7,   6,   5,   4,   3,   4,   4,   6,   3,   2,\n",
       "           2,   3,   5,   4,   5,   4,   2,   1,   2,   2,   4,   5,   1,\n",
       "           3,   1,   2,   4,   2,   1,   2,   3,   2,   1,   3,   1,   1,\n",
       "           1,   2,   1,   3,   1,   2,   1,   3,   1,   2,   1,   1,   1,\n",
       "           3,   1,   3,   2,   1,   1,   1, 130])),\n",
       " (array([  1,   2,   3,   4,   5,   6,   7,   8,   9,  10,  11,  12,  13,\n",
       "          14,  15,  16,  17,  18,  20,  21,  22,  23,  24,  26,  27,  28,\n",
       "          29,  30,  31,  32,  33,  34,  35,  36,  38,  40,  41,  42,  43,\n",
       "          44,  45,  48,  49,  50,  51,  53,  58,  59,  61,  63,  68,  77,\n",
       "          79,  80,  81,  84,  85,  86,  88,  89,  95,  96, 100]),\n",
       "  array([449, 155,  60,  50,  41,  21,  15,  14,  15,  11,   5,  10,  10,\n",
       "           2,   4,   3,   4,   6,   7,   2,   6,   1,   2,   1,   1,   4,\n",
       "           2,   2,   2,   2,   3,   1,   1,   1,   2,   4,   3,   1,   1,\n",
       "           2,   4,   2,   1,   2,   1,   2,   1,   1,   1,   1,   2,   1,\n",
       "           1,   1,   1,   1,   1,   1,   1,   1,   1,   1,  45])),\n",
       " (array([  1,   2,   3,   4,   5,   6,   7,   8,   9,  10,  11,  12,  13,\n",
       "          14,  15,  16,  17,  18,  19,  20,  21,  22,  24,  25,  27,  28,\n",
       "          29,  30,  32,  36,  38,  40,  41,  42,  44,  45,  46,  60,  61,\n",
       "          62,  74,  80,  83, 100]),\n",
       "  array([538, 165,  65,  45,  24,  12,  17,  14,  14,   7,   5,   7,   9,\n",
       "           4,   5,   2,   5,   3,   3,   4,   1,   4,   2,   3,   1,   1,\n",
       "           1,   1,   1,   1,   2,   2,   1,   1,   1,   1,   1,   1,   1,\n",
       "           1,   1,   1,   1,  21])),\n",
       " (array([  1,   2,   3,   4,   5,   6,   7,   8,   9,  10,  11,  12,  13,\n",
       "          14,  15,  16,  17,  19,  20,  21,  23,  26,  27,  28,  29,  30,\n",
       "          34,  35,  36,  40,  45,  46,  48,  49, 100]),\n",
       "  array([604, 154,  71,  41,  25,  10,  16,   7,   7,   9,   3,   6,   5,\n",
       "           6,   5,   1,   1,   1,   1,   4,   1,   2,   4,   1,   1,   1,\n",
       "           1,   1,   1,   1,   1,   2,   1,   1,   4]))]"
      ]
     },
     "execution_count": 73,
     "metadata": {},
     "output_type": "execute_result"
    }
   ],
   "source": [
    "alphas = [1.2, 1.4, 1.6, 1.8, 2]\n",
    "second_specs_R = [None] * len(alphas)\n",
    "second_specs_S = [None] * len(alphas)\n",
    "for i in range(len(alphas)):\n",
    "    second_specs_R[i] = generate_data_spec_zipf_key(alphas[i], 1000, 100)\n",
    "    second_specs_S[i] = generate_data_spec_zipf_key(alphas[i], 1000, 100)\n",
    "second_specs_R"
   ]
  },
  {
   "cell_type": "code",
   "execution_count": 74,
   "id": "487af48b",
   "metadata": {},
   "outputs": [],
   "source": [
    "# # Generate CSV files\n",
    "# for i, spec in enumerate(second_specs_R):\n",
    "#     generate_experiment_data_csv(f'./data/second-R-{alphas[i]}', spec)\n",
    "# for i, spec in enumerate(second_specs_S):\n",
    "#     generate_experiment_data_csv(f'./data/second-S-{alphas[i]}', spec)"
   ]
  },
  {
   "cell_type": "markdown",
   "id": "65743898",
   "metadata": {},
   "source": [
    "## Conduct experiment"
   ]
  },
  {
   "cell_type": "markdown",
   "id": "b7abc5bb",
   "metadata": {},
   "source": [
    "1. On increasing size"
   ]
  },
  {
   "cell_type": "code",
   "execution_count": 81,
   "id": "f8c2ba0e",
   "metadata": {},
   "outputs": [],
   "source": [
    "def experiment_on_size(sizes, res):\n",
    "    for size in sizes:\n",
    "        \n",
    "        print(\"Size: \", size)\n",
    "        \n",
    "        # Read data\n",
    "        df_R = spark.read.option('header','true').csv(f'./data/first-R-{size}.csv', inferSchema=True)\n",
    "        df_S = spark.read.option('header','true').csv(f'./data/first-S-{size}.csv', inferSchema=True)\n",
    "        rdd_R = df_R.rdd.partitionBy(num_cores)\n",
    "        rdd_S = df_S.rdd.partitionBy(num_cores)\n",
    "        \n",
    "        # Tree-Join\n",
    "        start = time.time()\n",
    "        res_tj = treeJoin(rdd_R, rdd_S).collect()\n",
    "        end = time.time()\n",
    "        print(\"Tree-Join\")\n",
    "        print(end - start)\n",
    "        res['tj'].append(end - start)\n",
    "        \n",
    "        # Broadcast-Join\n",
    "        start = time.time()\n",
    "        res_bj = broadcastJoin(rdd_R, rdd_S).collect()\n",
    "        end = time.time()\n",
    "        print(\"Broadcast-Join\")\n",
    "        print(end - start)\n",
    "        res['bj'].append(end - start)\n",
    "        \n",
    "        # AM-Join\n",
    "        start = time.time()\n",
    "        res_am = amJoin(rdd_R, rdd_S).collect()\n",
    "        end = time.time()\n",
    "        print(\"AM-Join\")\n",
    "        print(end - start)\n",
    "        res['am'].append(end - start)\n",
    "        \n",
    "    return res"
   ]
  },
  {
   "cell_type": "code",
   "execution_count": 82,
   "id": "30bcd43d",
   "metadata": {},
   "outputs": [
    {
     "name": "stdout",
     "output_type": "stream",
     "text": [
      "Size:  1000\n",
      "Tree-Join\n",
      "1.003870964050293\n",
      "Broadcast-Join\n",
      "0.38605189323425293\n"
     ]
    },
    {
     "name": "stderr",
     "output_type": "stream",
     "text": [
      "23/05/23 17:35:35 WARN DAGScheduler: Broadcasting large task binary with size 1974.4 KiB\n",
      "23/05/23 17:35:36 WARN DAGScheduler: Broadcasting large task binary with size 3.9 MiB\n"
     ]
    },
    {
     "name": "stdout",
     "output_type": "stream",
     "text": [
      "AM-Join\n",
      "2.0946848392486572\n",
      "Size:  10000\n",
      "Tree-Join\n",
      "1.0811488628387451\n",
      "Broadcast-Join\n",
      "0.38468289375305176\n"
     ]
    },
    {
     "name": "stderr",
     "output_type": "stream",
     "text": [
      "23/05/23 17:35:40 WARN DAGScheduler: Broadcasting large task binary with size 1974.4 KiB\n",
      "23/05/23 17:35:41 WARN DAGScheduler: Broadcasting large task binary with size 3.9 MiB\n"
     ]
    },
    {
     "name": "stdout",
     "output_type": "stream",
     "text": [
      "AM-Join\n",
      "1.957948923110962\n",
      "Size:  100000\n",
      "Tree-Join\n",
      "0.944767951965332\n",
      "Broadcast-Join\n",
      "0.39436817169189453\n"
     ]
    },
    {
     "name": "stderr",
     "output_type": "stream",
     "text": [
      "23/05/23 17:35:43 WARN DAGScheduler: Broadcasting large task binary with size 1974.4 KiB\n",
      "23/05/23 17:35:44 WARN DAGScheduler: Broadcasting large task binary with size 3.9 MiB\n"
     ]
    },
    {
     "name": "stdout",
     "output_type": "stream",
     "text": [
      "AM-Join\n",
      "2.015888214111328\n",
      "Size:  1000000\n",
      "Tree-Join\n",
      "0.9394638538360596\n",
      "Broadcast-Join\n",
      "0.3765299320220947\n"
     ]
    },
    {
     "name": "stderr",
     "output_type": "stream",
     "text": [
      "23/05/23 17:35:47 WARN DAGScheduler: Broadcasting large task binary with size 1974.4 KiB\n",
      "23/05/23 17:35:48 WARN DAGScheduler: Broadcasting large task binary with size 3.9 MiB\n",
      "                                                                                \r"
     ]
    },
    {
     "name": "stdout",
     "output_type": "stream",
     "text": [
      "AM-Join\n",
      "2.0880188941955566\n",
      "Size:  10000000\n",
      "Tree-Join\n",
      "1.1482601165771484\n",
      "Broadcast-Join\n",
      "0.39577484130859375\n"
     ]
    },
    {
     "name": "stderr",
     "output_type": "stream",
     "text": [
      "23/05/23 17:35:51 WARN DAGScheduler: Broadcasting large task binary with size 1974.4 KiB\n",
      "23/05/23 17:35:52 WARN DAGScheduler: Broadcasting large task binary with size 3.9 MiB\n"
     ]
    },
    {
     "name": "stdout",
     "output_type": "stream",
     "text": [
      "AM-Join\n",
      "1.9517302513122559\n",
      "Size:  100000000\n",
      "Tree-Join\n",
      "0.9783999919891357\n",
      "Broadcast-Join\n",
      "0.37242698669433594\n"
     ]
    },
    {
     "name": "stderr",
     "output_type": "stream",
     "text": [
      "23/05/23 17:35:55 WARN DAGScheduler: Broadcasting large task binary with size 1974.4 KiB\n",
      "23/05/23 17:35:56 WARN DAGScheduler: Broadcasting large task binary with size 3.9 MiB\n"
     ]
    },
    {
     "name": "stdout",
     "output_type": "stream",
     "text": [
      "AM-Join\n",
      "1.998175859451294\n"
     ]
    },
    {
     "data": {
      "text/plain": [
       "{'tj': [1.003870964050293,\n",
       "  1.0811488628387451,\n",
       "  0.944767951965332,\n",
       "  0.9394638538360596,\n",
       "  1.1482601165771484,\n",
       "  0.9783999919891357],\n",
       " 'bj': [0.38605189323425293,\n",
       "  0.38468289375305176,\n",
       "  0.39436817169189453,\n",
       "  0.3765299320220947,\n",
       "  0.39577484130859375,\n",
       "  0.37242698669433594],\n",
       " 'am': [2.0946848392486572,\n",
       "  1.957948923110962,\n",
       "  2.015888214111328,\n",
       "  2.0880188941955566,\n",
       "  1.9517302513122559,\n",
       "  1.998175859451294]}"
      ]
     },
     "execution_count": 82,
     "metadata": {},
     "output_type": "execute_result"
    }
   ],
   "source": [
    "exp_res_size = {'tj': [], 'bj': [], 'am': []}\n",
    "exp_res_size = experiment_on_size(data_sizes, exp_res_size)\n",
    "exp_res_size"
   ]
  },
  {
   "cell_type": "code",
   "execution_count": 84,
   "id": "334178a5",
   "metadata": {},
   "outputs": [
    {
     "data": {
      "image/png": "[encoded data removed]",
      "text/plain": [
       "<Figure size 640x480 with 1 Axes>"
      ]
     },
     "metadata": {},
     "output_type": "display_data"
    }
   ],
   "source": [
    "plt.plot(data_sizes, exp_res_size['tj'], label=\"Tree-Join\")\n",
    "plt.plot(data_sizes, exp_res_size['bj'], label=\"Broadcast-Join\")\n",
    "plt.plot(data_sizes, exp_res_size['am'], label=\"AM-Join\")\n",
    "plt.legend()\n",
    "plt.show()"
   ]
  },
  {
   "cell_type": "markdown",
   "id": "0a7e1ed2",
   "metadata": {},
   "source": [
    "2. On increasing skewness"
   ]
  },
  {
   "cell_type": "code",
   "execution_count": 89,
   "id": "2de9b52f",
   "metadata": {},
   "outputs": [],
   "source": [
    "def experiment_on_skewness(alphas, res):\n",
    "    for alpha in alphas:\n",
    "        \n",
    "        print(\"Alpha: \", alpha)\n",
    "        \n",
    "        # Read data\n",
    "        df_R = spark.read.option('header','true').csv(f'./data/second-R-{alpha}.csv', inferSchema=True)\n",
    "        df_S = spark.read.option('header','true').csv(f'./data/second-S-{alpha}.csv', inferSchema=True)\n",
    "        rdd_R = df_R.rdd.partitionBy(num_cores)\n",
    "        rdd_S = df_S.rdd.partitionBy(num_cores)\n",
    "        \n",
    "        # Tree-Join\n",
    "        start = time.time()\n",
    "        res_tj = treeJoin(rdd_R, rdd_S).collect()\n",
    "        end = time.time()\n",
    "        print(\"Tree-Join\")\n",
    "        print(end - start)\n",
    "        res['tj'].append(end - start)\n",
    "        \n",
    "        # Broadcast-Join\n",
    "        start = time.time()\n",
    "        res_bj = broadcastJoin(rdd_R, rdd_S).collect()\n",
    "        end = time.time()\n",
    "        print(\"Broadcast-Join\")\n",
    "        print(end - start)\n",
    "        res['bj'].append(end - start)\n",
    "        \n",
    "        # AM-Join\n",
    "        start = time.time()\n",
    "        res_am = amJoin(rdd_R, rdd_S).collect()\n",
    "        end = time.time()\n",
    "        print(\"AM-Join\")\n",
    "        print(end - start)\n",
    "        res['am'].append(end - start)\n",
    "    return res"
   ]
  },
  {
   "cell_type": "code",
   "execution_count": 90,
   "id": "e6778333",
   "metadata": {},
   "outputs": [
    {
     "name": "stdout",
     "output_type": "stream",
     "text": [
      "Alpha:  1.2\n"
     ]
    },
    {
     "name": "stderr",
     "output_type": "stream",
     "text": [
      "                                                                                \r"
     ]
    },
    {
     "name": "stdout",
     "output_type": "stream",
     "text": [
      "Tree-Join\n",
      "9.067851066589355\n",
      "Broadcast-Join\n",
      "0.2010810375213623\n"
     ]
    },
    {
     "name": "stderr",
     "output_type": "stream",
     "text": [
      "                                                                                \r"
     ]
    },
    {
     "name": "stdout",
     "output_type": "stream",
     "text": [
      "AM-Join\n",
      "9.778332948684692\n",
      "Alpha:  1.4\n"
     ]
    },
    {
     "name": "stderr",
     "output_type": "stream",
     "text": [
      "                                                                                \r"
     ]
    },
    {
     "name": "stdout",
     "output_type": "stream",
     "text": [
      "Tree-Join\n",
      "9.678820848464966\n",
      "Broadcast-Join\n",
      "0.19600415229797363\n"
     ]
    },
    {
     "name": "stderr",
     "output_type": "stream",
     "text": [
      "                                                                                \r"
     ]
    },
    {
     "name": "stdout",
     "output_type": "stream",
     "text": [
      "AM-Join\n",
      "10.281280994415283\n",
      "Alpha:  1.6\n"
     ]
    },
    {
     "name": "stderr",
     "output_type": "stream",
     "text": [
      "                                                                                \r"
     ]
    },
    {
     "name": "stdout",
     "output_type": "stream",
     "text": [
      "Tree-Join\n",
      "16.509501934051514\n",
      "Broadcast-Join\n",
      "0.223311185836792\n"
     ]
    },
    {
     "name": "stderr",
     "output_type": "stream",
     "text": [
      "                                                                                \r"
     ]
    },
    {
     "name": "stdout",
     "output_type": "stream",
     "text": [
      "AM-Join\n",
      "17.060347080230713\n",
      "Alpha:  1.8\n"
     ]
    },
    {
     "name": "stderr",
     "output_type": "stream",
     "text": [
      "                                                                                \r"
     ]
    },
    {
     "name": "stdout",
     "output_type": "stream",
     "text": [
      "Tree-Join\n",
      "26.871446132659912\n",
      "Broadcast-Join\n",
      "0.26541805267333984\n"
     ]
    },
    {
     "name": "stderr",
     "output_type": "stream",
     "text": [
      "                                                                                \r"
     ]
    },
    {
     "name": "stdout",
     "output_type": "stream",
     "text": [
      "AM-Join\n",
      "26.097058057785034\n",
      "Alpha:  2\n"
     ]
    },
    {
     "name": "stderr",
     "output_type": "stream",
     "text": [
      "                                                                                \r"
     ]
    },
    {
     "name": "stdout",
     "output_type": "stream",
     "text": [
      "Tree-Join\n",
      "35.25183081626892\n",
      "Broadcast-Join\n",
      "0.2804880142211914\n"
     ]
    },
    {
     "name": "stderr",
     "output_type": "stream",
     "text": [
      "                                                                                \r"
     ]
    },
    {
     "name": "stdout",
     "output_type": "stream",
     "text": [
      "AM-Join\n",
      "35.770018100738525\n"
     ]
    },
    {
     "data": {
      "text/plain": [
       "{'tj': [9.067851066589355,\n",
       "  9.678820848464966,\n",
       "  16.509501934051514,\n",
       "  26.871446132659912,\n",
       "  35.25183081626892],\n",
       " 'bj': [0.2010810375213623,\n",
       "  0.19600415229797363,\n",
       "  0.223311185836792,\n",
       "  0.26541805267333984,\n",
       "  0.2804880142211914],\n",
       " 'am': [9.778332948684692,\n",
       "  10.281280994415283,\n",
       "  17.060347080230713,\n",
       "  26.097058057785034,\n",
       "  35.770018100738525]}"
      ]
     },
     "execution_count": 90,
     "metadata": {},
     "output_type": "execute_result"
    }
   ],
   "source": [
    "exp_res_skewness = {'tj': [], 'bj': [], 'am': []}\n",
    "exp_res_skewness = experiment_on_skewness(alphas, exp_res_skewness)\n",
    "exp_res_skewness"
   ]
  },
  {
   "cell_type": "code",
   "execution_count": 92,
   "id": "984e003d",
   "metadata": {},
   "outputs": [
    {
     "data": {
      "image/png": "[encoded data removed]",
      "text/plain": [
       "<Figure size 640x480 with 1 Axes>"
      ]
     },
     "metadata": {},
     "output_type": "display_data"
    }
   ],
   "source": [
    "plt.plot(alphas, exp_res_skewness['tj'], label=\"Tree-Join\")\n",
    "plt.plot(alphas, exp_res_skewness['bj'], label=\"Broadcast-Join\")\n",
    "plt.plot(alphas, exp_res_skewness['am'], label=\"AM-Join\")\n",
    "plt.legend()\n",
    "plt.show()"
   ]
  },
  {
   "cell_type": "markdown",
   "id": "4e446ae3",
   "metadata": {},
   "source": [
    "3. On increasing number of cores (to simulate multiple executors)"
   ]
  },
  {
   "cell_type": "code",
   "execution_count": 97,
   "id": "7a413840",
   "metadata": {},
   "outputs": [],
   "source": [
    "def experiment_on_num_cores(ncs, res):\n",
    "    for nc in ncs:\n",
    "        \n",
    "        print(\"Number of cores: \", nc)\n",
    "        \n",
    "        # Read data\n",
    "        df_R = spark.read.option('header','true').csv(f'./data/first-R-10000.csv', inferSchema=True)\n",
    "        df_S = spark.read.option('header','true').csv(f'./data/first-S-10000.csv', inferSchema=True)\n",
    "        rdd_R = df_R.rdd.partitionBy(nc)\n",
    "        rdd_S = df_S.rdd.partitionBy(nc)\n",
    "        \n",
    "        # Tree-Join\n",
    "        start = time.time()\n",
    "        res_tj = treeJoin(rdd_R, rdd_S).collect()\n",
    "        end = time.time()\n",
    "        print(\"Tree-Join\")\n",
    "        print(end - start)\n",
    "        res['tj'].append(end - start)\n",
    "        \n",
    "        # Broadcast-Join\n",
    "        start = time.time()\n",
    "        res_bj = broadcastJoin(rdd_R, rdd_S).collect()\n",
    "        end = time.time()\n",
    "        print(\"Broadcast-Join\")\n",
    "        print(end - start)\n",
    "        res['bj'].append(end - start)\n",
    "        \n",
    "        # AM-Join\n",
    "        start = time.time()\n",
    "        res_am = amJoin(rdd_R, rdd_S).collect()\n",
    "        end = time.time()\n",
    "        print(\"AM-Join\")\n",
    "        print(end - start)\n",
    "        res['am'].append(end - start)\n",
    "    return res"
   ]
  },
  {
   "cell_type": "code",
   "execution_count": 100,
   "id": "05404fa1",
   "metadata": {},
   "outputs": [
    {
     "name": "stdout",
     "output_type": "stream",
     "text": [
      "Number of cores:  1\n",
      "Tree-Join\n",
      "1.1430962085723877\n",
      "Broadcast-Join\n",
      "0.6538190841674805\n"
     ]
    },
    {
     "name": "stderr",
     "output_type": "stream",
     "text": [
      "                                                                                \r"
     ]
    },
    {
     "name": "stdout",
     "output_type": "stream",
     "text": [
      "AM-Join\n",
      "86.77742600440979\n",
      "Number of cores:  2\n",
      "Tree-Join\n",
      "0.7157533168792725\n",
      "Broadcast-Join\n",
      "0.44026613235473633\n"
     ]
    },
    {
     "name": "stderr",
     "output_type": "stream",
     "text": [
      "23/05/23 17:58:56 WARN DAGScheduler: Broadcasting large task binary with size 1928.1 KiB\n"
     ]
    },
    {
     "name": "stdout",
     "output_type": "stream",
     "text": [
      "AM-Join\n",
      "39.66380214691162\n",
      "Number of cores:  3\n",
      "Tree-Join\n",
      "0.68044114112854\n",
      "Broadcast-Join\n",
      "0.42505979537963867\n"
     ]
    },
    {
     "name": "stderr",
     "output_type": "stream",
     "text": [
      "23/05/23 17:59:10 WARN DAGScheduler: Broadcasting large task binary with size 1434.1 KiB\n",
      "23/05/23 17:59:11 WARN DAGScheduler: Broadcasting large task binary with size 2.8 MiB\n"
     ]
    },
    {
     "name": "stdout",
     "output_type": "stream",
     "text": [
      "AM-Join\n",
      "13.078643798828125\n",
      "Number of cores:  4\n",
      "Tree-Join\n",
      "0.7883431911468506\n",
      "Broadcast-Join\n",
      "0.3701789379119873\n"
     ]
    },
    {
     "name": "stderr",
     "output_type": "stream",
     "text": [
      "23/05/23 17:59:15 WARN DAGScheduler: Broadcasting large task binary with size 1905.3 KiB\n",
      "23/05/23 17:59:15 WARN DAGScheduler: Broadcasting large task binary with size 3.7 MiB\n"
     ]
    },
    {
     "name": "stdout",
     "output_type": "stream",
     "text": [
      "AM-Join\n",
      "3.287956953048706\n",
      "Number of cores:  5\n",
      "Tree-Join\n",
      "0.8925609588623047\n",
      "Broadcast-Join\n",
      "0.4302098751068115\n"
     ]
    },
    {
     "name": "stderr",
     "output_type": "stream",
     "text": [
      "23/05/23 17:59:18 WARN DAGScheduler: Broadcasting large task binary with size 1974.4 KiB\n",
      "23/05/23 17:59:19 WARN DAGScheduler: Broadcasting large task binary with size 3.9 MiB\n"
     ]
    },
    {
     "name": "stdout",
     "output_type": "stream",
     "text": [
      "AM-Join\n",
      "1.7231159210205078\n",
      "Number of cores:  6\n",
      "Tree-Join\n",
      "0.8933677673339844\n",
      "Broadcast-Join\n",
      "0.396953821182251\n"
     ]
    },
    {
     "name": "stderr",
     "output_type": "stream",
     "text": [
      "23/05/23 17:59:21 WARN DAGScheduler: Broadcasting large task binary with size 1974.4 KiB\n",
      "23/05/23 17:59:22 WARN DAGScheduler: Broadcasting large task binary with size 3.9 MiB\n"
     ]
    },
    {
     "name": "stdout",
     "output_type": "stream",
     "text": [
      "AM-Join\n",
      "1.8032732009887695\n",
      "Number of cores:  7\n",
      "Tree-Join\n",
      "0.9025981426239014\n",
      "Broadcast-Join\n",
      "0.4370689392089844\n"
     ]
    },
    {
     "name": "stderr",
     "output_type": "stream",
     "text": [
      "23/05/23 17:59:25 WARN DAGScheduler: Broadcasting large task binary with size 1974.4 KiB\n",
      "23/05/23 17:59:26 WARN DAGScheduler: Broadcasting large task binary with size 3.9 MiB\n"
     ]
    },
    {
     "name": "stdout",
     "output_type": "stream",
     "text": [
      "AM-Join\n",
      "1.9363813400268555\n",
      "Number of cores:  8\n",
      "Tree-Join\n",
      "1.1404039859771729\n",
      "Broadcast-Join\n",
      "0.4789109230041504\n"
     ]
    },
    {
     "name": "stderr",
     "output_type": "stream",
     "text": [
      "23/05/23 17:59:29 WARN DAGScheduler: Broadcasting large task binary with size 1974.4 KiB\n",
      "23/05/23 17:59:30 WARN DAGScheduler: Broadcasting large task binary with size 3.9 MiB\n"
     ]
    },
    {
     "name": "stdout",
     "output_type": "stream",
     "text": [
      "AM-Join\n",
      "2.199312210083008\n"
     ]
    },
    {
     "data": {
      "text/plain": [
       "{'tj': [1.1430962085723877,\n",
       "  0.7157533168792725,\n",
       "  0.68044114112854,\n",
       "  0.7883431911468506,\n",
       "  0.8925609588623047,\n",
       "  0.8933677673339844,\n",
       "  0.9025981426239014,\n",
       "  1.1404039859771729],\n",
       " 'bj': [0.6538190841674805,\n",
       "  0.44026613235473633,\n",
       "  0.42505979537963867,\n",
       "  0.3701789379119873,\n",
       "  0.4302098751068115,\n",
       "  0.396953821182251,\n",
       "  0.4370689392089844,\n",
       "  0.4789109230041504],\n",
       " 'am': [86.77742600440979,\n",
       "  39.66380214691162,\n",
       "  13.078643798828125,\n",
       "  3.287956953048706,\n",
       "  1.7231159210205078,\n",
       "  1.8032732009887695,\n",
       "  1.9363813400268555,\n",
       "  2.199312210083008]}"
      ]
     },
     "execution_count": 100,
     "metadata": {},
     "output_type": "execute_result"
    }
   ],
   "source": [
    "ncs = [i for i in range(1, 9)]\n",
    "exp_res_num_cores = {'tj': [], 'bj': [], 'am': []}\n",
    "exp_res_num_cores = experiment_on_num_cores(ncs, exp_res_num_cores)\n",
    "exp_res_num_cores"
   ]
  },
  {
   "cell_type": "code",
   "execution_count": 102,
   "id": "2488b032",
   "metadata": {
    "scrolled": false
   },
   "outputs": [
    {
     "data": {
      "image/png": "[encoded data removed]",
      "text/plain": [
       "<Figure size 640x480 with 1 Axes>"
      ]
     },
     "metadata": {},
     "output_type": "display_data"
    }
   ],
   "source": [
    "plt.plot(ncs, exp_res_num_cores['tj'], label=\"Tree-Join\")\n",
    "plt.plot(ncs, exp_res_num_cores['bj'], label=\"Broadcast-Join\")\n",
    "plt.plot(ncs, exp_res_num_cores['am'], label=\"AM-Join\")\n",
    "plt.legend()\n",
    "plt.show()"
   ]
  },
  {
   "cell_type": "markdown",
   "id": "3db00a99",
   "metadata": {},
   "source": [
    "# Algorithm correctness"
   ]
  },
  {
   "cell_type": "markdown",
   "id": "e07b8435",
   "metadata": {},
   "source": [
    "Test for correctness of:\n",
    "1. Tree-Join\n",
    "2. Broadcast-Join\n",
    "3. IB-FO-Join\n",
    "4. AM-Join\n",
    "\n",
    "on dataset with the largest size: 10^8 records. "
   ]
  },
  {
   "cell_type": "code",
   "execution_count": null,
   "id": "d5fc0b92",
   "metadata": {
    "scrolled": true
   },
   "outputs": [],
   "source": [
    "# Read dataset with largest size\n",
    "df_R_large = spark.read.option('header','true').csv(f'./data/first-R-100000000.csv', inferSchema=True)\n",
    "df_S_large = spark.read.option('header','true').csv(f'./data/first-S-100000000.csv', inferSchema=True)\n",
    "rdd_R_large = df_R_large.rdd.partitionBy(num_cores)\n",
    "rdd_S_large = df_S_large.rdd.partitionBy(num_cores)"
   ]
  },
  {
   "cell_type": "code",
   "execution_count": null,
   "id": "7966c3e7",
   "metadata": {
    "scrolled": true
   },
   "outputs": [],
   "source": [
    "# Expected results\n",
    "expected_ij_large = rdd_R_large.join(rdd_S_large).collect()\n",
    "expected_foj_large = rdd_R_large.fullOuterJoin(rdd_S_large).collect()"
   ]
  },
  {
   "cell_type": "markdown",
   "id": "9718a031",
   "metadata": {},
   "source": [
    "1. Tree-Join"
   ]
  },
  {
   "cell_type": "code",
   "execution_count": null,
   "id": "f3116173",
   "metadata": {
    "scrolled": true
   },
   "outputs": [],
   "source": [
    "res_tj_large = treeJoin(rdd_R_large, rdd_S_large).collect()\n",
    "test_correctness(res_tj_large, expected_ij_large)\n",
    "# No error means OK."
   ]
  },
  {
   "cell_type": "markdown",
   "id": "7899b6e2",
   "metadata": {},
   "source": [
    "2. Broadcast-Join"
   ]
  },
  {
   "cell_type": "code",
   "execution_count": 115,
   "id": "121992ea",
   "metadata": {},
   "outputs": [],
   "source": [
    "res_bj_large = broadcastJoin(rdd_R_large, rdd_S_large).collect()\n",
    "test_correctness(res_bj_large, expected_ij_large)\n",
    "# No error means OK.2. Broadcast-Join"
   ]
  },
  {
   "cell_type": "markdown",
   "id": "eb47de7b",
   "metadata": {},
   "source": [
    "3. IB-FO-Join"
   ]
  },
  {
   "cell_type": "code",
   "execution_count": null,
   "id": "1e049ac3",
   "metadata": {},
   "outputs": [],
   "source": [
    "res_ibfo_large = indexBroadcastFullOuterJoin(rdd_R_large, rdd_S_large).collect()\n",
    "test_correctness(res_ibfo_large, expected_foj_large, True) # skip_record_check=True to save time\n",
    "# No error means OK."
   ]
  },
  {
   "cell_type": "markdown",
   "id": "1b81826d",
   "metadata": {},
   "source": [
    "4. AM-Join"
   ]
  },
  {
   "cell_type": "code",
   "execution_count": null,
   "id": "310735c1",
   "metadata": {},
   "outputs": [],
   "source": [
    "res_am_large = amJoin(rdd_R_large, rdd_S_large).collect()\n",
    "test_correctness(res_am_large, expected_ij_large)\n",
    "# No error means OK.2. Broadcast-Join"
   ]
  }
 ],
 "metadata": {
  "kernelspec": {
   "display_name": "Python 3 (ipykernel)",
   "language": "python",
   "name": "python3"
  },
  "language_info": {
   "codemirror_mode": {
    "name": "ipython",
    "version": 3
   },
   "file_extension": ".py",
   "mimetype": "text/x-python",
   "name": "python",
   "nbconvert_exporter": "python",
   "pygments_lexer": "ipython3",
   "version": "3.10.11"
  }
 },
 "nbformat": 4,
 "nbformat_minor": 5
}
